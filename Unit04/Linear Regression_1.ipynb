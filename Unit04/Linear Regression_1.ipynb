{
 "cells": [
  {
   "cell_type": "markdown",
   "metadata": {},
   "source": [
    "# Linear Regression\n"
   ]
  },
  {
   "cell_type": "code",
   "execution_count": 1,
   "metadata": {},
   "outputs": [],
   "source": [
    "%matplotlib inline\n",
    "import numpy as np\n",
    "import matplotlib.pyplot as plt"
   ]
  },
  {
   "cell_type": "markdown",
   "metadata": {},
   "source": [
    "## 1. 線性迴歸基本概念"
   ]
  },
  {
   "cell_type": "markdown",
   "metadata": {},
   "source": [
    "#### 直線\n",
    "\n",
    "$$f(x) = 1.2x + 0.8$$\n",
    "\n"
   ]
  },
  {
   "cell_type": "code",
   "execution_count": 2,
   "metadata": {},
   "outputs": [
    {
     "name": "stdout",
     "output_type": "stream",
     "text": [
      "[0.         0.10204082 0.20408163 0.30612245 0.40816327 0.51020408\n",
      " 0.6122449  0.71428571 0.81632653 0.91836735 1.02040816 1.12244898\n",
      " 1.2244898  1.32653061 1.42857143 1.53061224 1.63265306 1.73469388\n",
      " 1.83673469 1.93877551 2.04081633 2.14285714 2.24489796 2.34693878\n",
      " 2.44897959 2.55102041 2.65306122 2.75510204 2.85714286 2.95918367\n",
      " 3.06122449 3.16326531 3.26530612 3.36734694 3.46938776 3.57142857\n",
      " 3.67346939 3.7755102  3.87755102 3.97959184 4.08163265 4.18367347\n",
      " 4.28571429 4.3877551  4.48979592 4.59183673 4.69387755 4.79591837\n",
      " 4.89795918 5.        ]\n"
     ]
    }
   ],
   "source": [
    "#準備 50 個點\n",
    "#5-0/50 = 0.1 +....\n",
    "# 0~5線性切割\n",
    "x = np.linspace(0, 5, 50)\n",
    "print(x)"
   ]
  },
  {
   "cell_type": "code",
   "execution_count": 3,
   "metadata": {},
   "outputs": [
    {
     "data": {
      "text/plain": [
       "array([0.8       , 0.92244898, 1.04489796, 1.16734694, 1.28979592,\n",
       "       1.4122449 , 1.53469388, 1.65714286, 1.77959184, 1.90204082,\n",
       "       2.0244898 , 2.14693878, 2.26938776, 2.39183673, 2.51428571,\n",
       "       2.63673469, 2.75918367, 2.88163265, 3.00408163, 3.12653061,\n",
       "       3.24897959, 3.37142857, 3.49387755, 3.61632653, 3.73877551,\n",
       "       3.86122449, 3.98367347, 4.10612245, 4.22857143, 4.35102041,\n",
       "       4.47346939, 4.59591837, 4.71836735, 4.84081633, 4.96326531,\n",
       "       5.08571429, 5.20816327, 5.33061224, 5.45306122, 5.5755102 ,\n",
       "       5.69795918, 5.82040816, 5.94285714, 6.06530612, 6.1877551 ,\n",
       "       6.31020408, 6.43265306, 6.55510204, 6.67755102, 6.8       ])"
      ]
     },
     "execution_count": 3,
     "metadata": {},
     "output_type": "execute_result"
    }
   ],
   "source": [
    "y = 1.2*x + 0.8\n",
    "y"
   ]
  },
  {
   "cell_type": "code",
   "execution_count": 4,
   "metadata": {},
   "outputs": [
    {
     "data": {
      "text/plain": [
       "[<matplotlib.lines.Line2D at 0x2bb7a8ced90>]"
      ]
     },
     "execution_count": 4,
     "metadata": {},
     "output_type": "execute_result"
    },
    {
     "data": {
      "image/png": "[encoded data removed]",
      "text/plain": [
       "<Figure size 432x288 with 1 Axes>"
      ]
     },
     "metadata": {
      "needs_background": "light"
     },
     "output_type": "display_data"
    }
   ],
   "source": [
    "#畫圖\n",
    "plt.scatter(x,y)\n",
    "plt.plot(x, 1.2*x+0.8, 'r')"
   ]
  },
  {
   "cell_type": "markdown",
   "metadata": {},
   "source": [
    "#### add noise \n",
    "\n",
    "$$f(x) + \\varepsilon(x)$$\n"
   ]
  },
  {
   "cell_type": "code",
   "execution_count": 5,
   "metadata": {},
   "outputs": [
    {
     "name": "stdout",
     "output_type": "stream",
     "text": [
      "[-0.05296429  0.65359541  2.00370767  1.20148011  1.50257751  1.97816917\n",
      "  1.90264425  1.49925108  1.62502556  2.90940694  1.78406251  2.51205938\n",
      "  3.07258381  2.2806005   3.0651706   2.22603805  2.62729419  2.23876991\n",
      "  3.21546839  3.06277561  2.75590976  3.16116158  3.99327421  3.3395438\n",
      "  4.47627919  3.82444175  4.73521184  4.40462084  3.70373623  5.11946619\n",
      "  5.31091802  4.93300833  3.98829578  4.750172    3.9329873   4.815329\n",
      "  5.26608428  4.67109168  6.10249397  7.05800367  5.69398468  5.68597671\n",
      "  5.96405511  5.81672201  6.05668647  5.98376979  7.14523892  6.20971252\n",
      "  6.36662053  8.01580675]\n"
     ]
    }
   ],
   "source": [
    "y = 1.2*x + 0.8 + 0.6*np.random.randn(50)\n",
    "print(y)"
   ]
  },
  {
   "cell_type": "code",
   "execution_count": 8,
   "metadata": {},
   "outputs": [
    {
     "data": {
      "text/plain": [
       "[<matplotlib.lines.Line2D at 0x2bb120397c0>]"
      ]
     },
     "execution_count": 8,
     "metadata": {},
     "output_type": "execute_result"
    },
    {
     "data": {
      "image/png": "[encoded data removed]",
      "text/plain": [
       "<Figure size 432x288 with 1 Axes>"
      ]
     },
     "metadata": {
      "needs_background": "light"
     },
     "output_type": "display_data"
    }
   ],
   "source": [
    "plt.scatter(x,y)\n",
    "plt.plot(x, 1.2*x + 0.8, 'r')"
   ]
  },
  {
   "cell_type": "code",
   "execution_count": 9,
   "metadata": {},
   "outputs": [],
   "source": [
    "from sklearn.linear_model import LinearRegression\n",
    "regr = LinearRegression()"
   ]
  },
  {
   "cell_type": "code",
   "execution_count": 10,
   "metadata": {},
   "outputs": [
    {
     "data": {
      "text/plain": [
       "LinearRegression()"
      ]
     },
     "execution_count": 10,
     "metadata": {},
     "output_type": "execute_result"
    }
   ],
   "source": [
    "regr"
   ]
  },
  {
   "cell_type": "markdown",
   "metadata": {},
   "source": [
    "要求資料轉換<br>\n",
    "\n",
    "$$[x_1, x_2, \\ldots, x_{50}]$$\n",
    "\n",
    "==> \n",
    "\n",
    "$$[[x_1], [x_2], \\ldots, [x_{50}]]$$\n",
    "\n",
    "\n",
    "矩陣的概念"
   ]
  },
  {
   "cell_type": "code",
   "execution_count": 11,
   "metadata": {},
   "outputs": [
    {
     "name": "stdout",
     "output_type": "stream",
     "text": [
      "(50,)\n"
     ]
    },
    {
     "data": {
      "text/plain": [
       "(50, 1)"
      ]
     },
     "execution_count": 11,
     "metadata": {},
     "output_type": "execute_result"
    }
   ],
   "source": [
    "print(x.shape)\n",
    "X = x.reshape(-1,1)\n",
    "X.shape"
   ]
  },
  {
   "cell_type": "code",
   "execution_count": 12,
   "metadata": {},
   "outputs": [
    {
     "data": {
      "text/plain": [
       "LinearRegression()"
      ]
     },
     "execution_count": 12,
     "metadata": {},
     "output_type": "execute_result"
    }
   ],
   "source": [
    "regr.fit(X,y)"
   ]
  },
  {
   "cell_type": "code",
   "execution_count": 13,
   "metadata": {},
   "outputs": [
    {
     "name": "stdout",
     "output_type": "stream",
     "text": [
      "[0.90270906 1.0247114  1.14671374 1.26871608 1.39071842 1.51272076\n",
      " 1.6347231  1.75672544 1.87872778 2.00073012 2.12273246 2.2447348\n",
      " 2.36673714 2.48873948 2.61074182 2.73274416 2.8547465  2.97674884\n",
      " 3.09875118 3.22075352 3.34275586 3.4647582  3.58676054 3.70876288\n",
      " 3.83076522 3.95276756 4.07476989 4.19677223 4.31877457 4.44077691\n",
      " 4.56277925 4.68478159 4.80678393 4.92878627 5.05078861 5.17279095\n",
      " 5.29479329 5.41679563 5.53879797 5.66080031 5.78280265 5.90480499\n",
      " 6.02680733 6.14880967 6.27081201 6.39281435 6.51481669 6.63681903\n",
      " 6.75882137 6.88082371]\n"
     ]
    }
   ],
   "source": [
    "Y = regr.predict(X)\n",
    "print(Y)"
   ]
  },
  {
   "cell_type": "code",
   "execution_count": 14,
   "metadata": {},
   "outputs": [
    {
     "data": {
      "text/plain": [
       "{'copy_X': True,\n",
       " 'fit_intercept': True,\n",
       " 'n_jobs': None,\n",
       " 'normalize': False,\n",
       " 'positive': False}"
      ]
     },
     "execution_count": 14,
     "metadata": {},
     "output_type": "execute_result"
    }
   ],
   "source": [
    "#了解你的訓練參數\n",
    "regr.get_params()"
   ]
  },
  {
   "cell_type": "code",
   "execution_count": 15,
   "metadata": {},
   "outputs": [
    {
     "name": "stdout",
     "output_type": "stream",
     "text": [
      "0.3059000329517192\n"
     ]
    },
    {
     "data": {
      "image/png": "[encoded data removed]",
      "text/plain": [
       "<Figure size 432x288 with 1 Axes>"
      ]
     },
     "metadata": {
      "needs_background": "light"
     },
     "output_type": "display_data"
    }
   ],
   "source": [
    "plt.scatter(x, y) #原本 \n",
    "plt.plot(x, Y, 'ro') #預測\n",
    "#calculate mse\n",
    "mse = np.sum((Y-y)**2) / len(y)\n",
    "print(mse)"
   ]
  },
  {
   "cell_type": "code",
   "execution_count": 16,
   "metadata": {},
   "outputs": [
    {
     "data": {
      "text/plain": [
       "array([1.19562293])"
      ]
     },
     "execution_count": 16,
     "metadata": {},
     "output_type": "execute_result"
    }
   ],
   "source": [
    "#Y=WX+b\n",
    "W=regr.coef_#斜率\n",
    "W\n",
    "\n"
   ]
  },
  {
   "cell_type": "code",
   "execution_count": 18,
   "metadata": {},
   "outputs": [
    {
     "data": {
      "text/plain": [
       "0.9027090637922233"
      ]
     },
     "execution_count": 18,
     "metadata": {},
     "output_type": "execute_result"
    }
   ],
   "source": [
    "b=regr.intercept_ #截距\n",
    "b"
   ]
  },
  {
   "cell_type": "code",
   "execution_count": 19,
   "metadata": {},
   "outputs": [
    {
     "data": {
      "text/plain": [
       "array([0.90270906, 1.0247114 , 1.14671374, 1.26871608, 1.39071842,\n",
       "       1.51272076, 1.6347231 , 1.75672544, 1.87872778, 2.00073012,\n",
       "       2.12273246, 2.2447348 , 2.36673714, 2.48873948, 2.61074182,\n",
       "       2.73274416, 2.8547465 , 2.97674884, 3.09875118, 3.22075352,\n",
       "       3.34275586, 3.4647582 , 3.58676054, 3.70876288, 3.83076522,\n",
       "       3.95276756, 4.07476989, 4.19677223, 4.31877457, 4.44077691,\n",
       "       4.56277925, 4.68478159, 4.80678393, 4.92878627, 5.05078861,\n",
       "       5.17279095, 5.29479329, 5.41679563, 5.53879797, 5.66080031,\n",
       "       5.78280265, 5.90480499, 6.02680733, 6.14880967, 6.27081201,\n",
       "       6.39281435, 6.51481669, 6.63681903, 6.75882137, 6.88082371])"
      ]
     },
     "execution_count": 19,
     "metadata": {},
     "output_type": "execute_result"
    }
   ],
   "source": [
    "Y"
   ]
  },
  {
   "cell_type": "code",
   "execution_count": 20,
   "metadata": {
    "scrolled": true
   },
   "outputs": [
    {
     "data": {
      "text/plain": [
       "array([4.48957785])"
      ]
     },
     "execution_count": 20,
     "metadata": {},
     "output_type": "execute_result"
    }
   ],
   "source": [
    "#可以將新的x資料帶入算出結果\n",
    "W*3+b"
   ]
  },
  {
   "cell_type": "code",
   "execution_count": 21,
   "metadata": {},
   "outputs": [
    {
     "data": {
      "text/plain": [
       "array([-0.05296429,  0.65359541,  2.00370767,  1.20148011,  1.50257751,\n",
       "        1.97816917,  1.90264425,  1.49925108,  1.62502556,  2.90940694,\n",
       "        1.78406251,  2.51205938,  3.07258381,  2.2806005 ,  3.0651706 ,\n",
       "        2.22603805,  2.62729419,  2.23876991,  3.21546839,  3.06277561,\n",
       "        2.75590976,  3.16116158,  3.99327421,  3.3395438 ,  4.47627919,\n",
       "        3.82444175,  4.73521184,  4.40462084,  3.70373623,  5.11946619,\n",
       "        5.31091802,  4.93300833,  3.98829578,  4.750172  ,  3.9329873 ,\n",
       "        4.815329  ,  5.26608428,  4.67109168,  6.10249397,  7.05800367,\n",
       "        5.69398468,  5.68597671,  5.96405511,  5.81672201,  6.05668647,\n",
       "        5.98376979,  7.14523892,  6.20971252,  6.36662053,  8.01580675])"
      ]
     },
     "execution_count": 21,
     "metadata": {},
     "output_type": "execute_result"
    }
   ],
   "source": [
    "y"
   ]
  },
  {
   "cell_type": "code",
   "execution_count": null,
   "metadata": {},
   "outputs": [],
   "source": []
  }
 ],
 "metadata": {
  "anaconda-cloud": {},
  "kernelspec": {
   "display_name": "Python 3 (ipykernel)",
   "language": "python",
   "name": "python3"
  },
  "language_info": {
   "codemirror_mode": {
    "name": "ipython",
    "version": 3
   },
   "file_extension": ".py",
   "mimetype": "text/x-python",
   "name": "python",
   "nbconvert_exporter": "python",
   "pygments_lexer": "ipython3",
   "version": "3.9.5"
  }
 },
 "nbformat": 4,
 "nbformat_minor": 1
}
